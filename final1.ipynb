{
 "cells": [
  {
   "cell_type": "code",
   "execution_count": 1,
   "metadata": {
    "collapsed": true
   },
   "outputs": [],
   "source": [
    "#reference :http://scikit-image.org/docs/dev/auto_examples/plot_hog.html\n",
    "\n",
    "data_root = '/home/spuran/Caffe/caffe/data/Images/'\n",
    "\n",
    "import os\n",
    "import time\n",
    "\n",
    "import numpy as np\n",
    "import matplotlib.pyplot as plt\n",
    "\n",
    "from skimage.feature import hog\n",
    "from skimage.transform import resize\n",
    "from skimage import io, data, color, exposure"
   ]
  },
  {
   "cell_type": "code",
   "execution_count": 2,
   "metadata": {
    "collapsed": true
   },
   "outputs": [],
   "source": [
    "import pandas as pd \n",
    "train_photos = pd.read_csv('/home/spuran/ML_FINAL_PROJECT/new_train11.csv')\n",
    "train_folder = data_root+'train/'\n",
    "train_images_path = [os.path.join(train_folder, str(x)+'.jpg') for x in train_photos['id']]  # get full filename\n",
    "\n",
    "num_train = len(train_images_path)\n",
    "#some images which had error have been deleted along with their corresponding lables \n",
    "#these images were identiifed while converting them to lmdb format itself for my another trial"
   ]
  },
  {
   "cell_type": "code",
   "execution_count": 3,
   "metadata": {
    "collapsed": false
   },
   "outputs": [
    {
     "name": "stdout",
     "output_type": "stream",
     "text": [
      "Number of training images:  38369\n"
     ]
    }
   ],
   "source": [
    "print \"Number of training images: \", num_train\n"
   ]
  },
  {
   "cell_type": "code",
   "execution_count": 4,
   "metadata": {
    "collapsed": false
   },
   "outputs": [],
   "source": [
    "list_features =[]\n",
    "\n",
    "for i in range(0, num_train):\n",
    "    \n",
    "    image = io.imread(train_images_path[i])\n",
    "    image = color.rgb2gray(image)\n",
    "    image_resized = resize(image, (224, 224))\n",
    "    feature = hog(image_resized, orientations=8,\n",
    "        pixels_per_cell=(16, 16), cells_per_block=(1, 1))\n",
    "    list_features.append(feature)\n",
    "    "
   ]
  },
  {
   "cell_type": "code",
   "execution_count": 5,
   "metadata": {
    "collapsed": false
   },
   "outputs": [
    {
     "name": "stdout",
     "output_type": "stream",
     "text": [
      "38369\n"
     ]
    }
   ],
   "source": [
    "print len(list_features)"
   ]
  },
  {
   "cell_type": "code",
   "execution_count": 6,
   "metadata": {
    "collapsed": true
   },
   "outputs": [],
   "source": [
    "feature_array = np.asarray(list_features)\n",
    "X_train = feature_array"
   ]
  },
  {
   "cell_type": "code",
   "execution_count": 7,
   "metadata": {
    "collapsed": false,
    "scrolled": true
   },
   "outputs": [
    {
     "name": "stdout",
     "output_type": "stream",
     "text": [
      "(38369, 1568)\n"
     ]
    }
   ],
   "source": [
    "print feature_array.shape"
   ]
  },
  {
   "cell_type": "code",
   "execution_count": 8,
   "metadata": {
    "collapsed": false
   },
   "outputs": [
    {
     "name": "stdout",
     "output_type": "stream",
     "text": [
      "38369\n",
      "[8]\n"
     ]
    }
   ],
   "source": [
    "import numpy as np\n",
    "\n",
    "\n",
    "list1 =[]\n",
    "i =0\n",
    "path = '/home/spuran/ML_FINAL_PROJECT/new_train11.csv'\n",
    "with open(path,'r') as csvfile:\n",
    "    data = csvfile.readlines()\n",
    "    for line in data:\n",
    "        array = line.split(\",\")\n",
    "        if array[1] != \"label\":\n",
    "            if i == 0:\n",
    "                junk = array[1]\n",
    "\n",
    "            else:\n",
    "                str_label= array[1]\n",
    "                str_label = str_label[1:-3]\n",
    "                int_label = int(str_label)\n",
    "            # print str_label\n",
    "            # print type(array[1])\n",
    "                list1.append([(int_label)])\n",
    "        i+=1\n",
    "\n",
    "\n",
    "labels = np.asarray(list1)\n",
    "print len(labels)\n",
    "print labels[9087]"
   ]
  },
  {
   "cell_type": "code",
   "execution_count": 9,
   "metadata": {
    "collapsed": false
   },
   "outputs": [],
   "source": [
    "y_train = labels"
   ]
  },
  {
   "cell_type": "code",
   "execution_count": 10,
   "metadata": {
    "collapsed": false
   },
   "outputs": [
    {
     "name": "stdout",
     "output_type": "stream",
     "text": [
      "Number of test images:  19646\n"
     ]
    }
   ],
   "source": [
    "import pandas as pd\n",
    "\n",
    "\n",
    "test_photos = pd.read_csv(data_root+'test.csv',delim_whitespace=True)\n",
    "test_folder = data_root+'test/'\n",
    "test_images = [os.path.join(test_folder, str(x)+'.jpg') for x in test_photos['id']]\n",
    "\n",
    "num_test = len(test_images)\n",
    "print \"Number of test images: \", num_test\n"
   ]
  },
  {
   "cell_type": "code",
   "execution_count": 11,
   "metadata": {
    "collapsed": false
   },
   "outputs": [],
   "source": [
    "list_features_test = []\n",
    "error_list =[]\n",
    "for i in range(0, num_test):\n",
    "    try: \n",
    "        image = io.imread(test_images[i])\n",
    "        image = color.rgb2gray(image)\n",
    "        image_resized = resize(image, (224, 224))\n",
    "        feature = hog(image_resized, orientations=8,\n",
    "            pixels_per_cell=(16, 16), cells_per_block=(1, 1))\n",
    "        list_features_test.append(feature)\n",
    "    except(NameError,ValueError,IOError,MemoryError):\n",
    "        print \"there is an error\"\n",
    "        error_list.append(test_images[i])\n",
    "        continue"
   ]
  },
  {
   "cell_type": "code",
   "execution_count": 12,
   "metadata": {
    "collapsed": true
   },
   "outputs": [],
   "source": [
    "feature_array_test = np.asarray(list_features_test)\n",
    "X_test = feature_array_test"
   ]
  },
  {
   "cell_type": "code",
   "execution_count": 13,
   "metadata": {
    "collapsed": false
   },
   "outputs": [
    {
     "name": "stdout",
     "output_type": "stream",
     "text": [
      "(19646, 1568)\n"
     ]
    }
   ],
   "source": [
    "print feature_array_test.shape"
   ]
  },
  {
   "cell_type": "code",
   "execution_count": 60,
   "metadata": {
    "collapsed": false
   },
   "outputs": [
    {
     "name": "stdout",
     "output_type": "stream",
     "text": [
      "Time passed:  0.2 sec\n"
     ]
    }
   ],
   "source": [
    "from sklearn import svm, datasets\n",
    "from sklearn.cross_validation import train_test_split\n",
    "from sklearn.preprocessing import label_binarize\n",
    "from sklearn.multiclass import OneVsRestClassifier\n",
    "# from sklearn.preprocessing import MultiLabelBinarizer\n",
    "\n",
    "import time\n",
    "t=time.time()\n",
    "\n",
    " #Convert list of labels to binary matrix\n",
    "\n",
    "random_state = np.random.RandomState(0)\n",
    "X_ptrain, X_ptest, y_ptrain, y_ptest = train_test_split(X_train, y_train, test_size=.2,random_state=random_state)\n",
    "\n",
    "print \"Time passed: \", \"{0:.1f}\".format(time.time()-t), \"sec\""
   ]
  },
  {
   "cell_type": "code",
   "execution_count": null,
   "metadata": {
    "collapsed": true
   },
   "outputs": [],
   "source": [
    "from sklearn.linear_model import LogisticRegression\n",
    "OVR = OneVsRestClassifier(LogisticRegression())#using logistic regression for classsifciation\n",
    "OVR.fit(X_ptrain, y_ptrain)"
   ]
  },
  {
   "cell_type": "code",
   "execution_count": 46,
   "metadata": {
    "collapsed": true
   },
   "outputs": [],
   "source": [
    "from sklearn.metrics import log_loss"
   ]
  },
  {
   "cell_type": "code",
   "execution_count": 44,
   "metadata": {
    "collapsed": false
   },
   "outputs": [
    {
     "name": "stdout",
     "output_type": "stream",
     "text": [
      "accurayc 0.424420119885\n"
     ]
    }
   ],
   "source": [
    "print \"accuracy\", OVR.score(X_ptest,y_ptest)"
   ]
  },
  {
   "cell_type": "code",
   "execution_count": 48,
   "metadata": {
    "collapsed": false
   },
   "outputs": [
    {
     "name": "stdout",
     "output_type": "stream",
     "text": [
      "[ 0.27950595  0.10718961  0.10542525  0.05972766  0.13607509  0.2463032\n",
      "  0.00486557  0.06090766]\n"
     ]
    }
   ],
   "source": [
    "Y1_final =OVR.predict_proba(X_ptest)\n",
    "print (Y1_final[0])"
   ]
  },
  {
   "cell_type": "code",
   "execution_count": 49,
   "metadata": {
    "collapsed": false
   },
   "outputs": [
    {
     "name": "stdout",
     "output_type": "stream",
     "text": [
      "1.56293734709\n"
     ]
    }
   ],
   "source": [
    "print log_loss(y_ptest,Y1_final)"
   ]
  },
  {
   "cell_type": "code",
   "execution_count": 121,
   "metadata": {
    "collapsed": true
   },
   "outputs": [],
   "source": [
    "test_ids = [[str(x)] for x in test_photos['id']]"
   ]
  },
  {
   "cell_type": "code",
   "execution_count": 122,
   "metadata": {
    "collapsed": false
   },
   "outputs": [
    {
     "name": "stdout",
     "output_type": "stream",
     "text": [
      "<type 'list'>\n",
      "<type 'numpy.ndarray'> (19646, 1) ['53290']\n"
     ]
    }
   ],
   "source": [
    "print type(test_ids)\n",
    "a = np.asarray(test_ids)\n",
    "print type(a),a.shape,a[1]"
   ]
  },
  {
   "cell_type": "code",
   "execution_count": 127,
   "metadata": {
    "collapsed": false
   },
   "outputs": [
    {
     "name": "stdout",
     "output_type": "stream",
     "text": [
      "['/home/spuran/Caffe/caffe/data/Images/test/79616.jpg', '/home/spuran/Caffe/caffe/data/Images/test/76787.jpg']\n"
     ]
    }
   ],
   "source": [
    "import csv\n",
    "\n",
    "\n",
    "\n",
    "# with open(data_root+\"submission_HOG.csv\",'w') as f:\n",
    "#         wr = csv.writer(f, quoting=csv.QUOTE_ALL)\n",
    "#         wr.writerow([\"label\",\"col1\",\"col2\",\"col3\",\"col4\",\"col5\",\"col6\",\"col7\",\"col8\"])\n",
    "a1 = np.hstack((a,Y_final))\n",
    "np.savetxt(\"submisoon1.csv\",Y_final.astype(dtype = float),delimiter =\",\",fmt = '%1.5f')\n",
    "# np.savetxt(\"submisoon1.csv\",a1.astype(dtype = float),delimiter =\",\",fmt = '%1.5f')\n",
    "#         for a in a1 :\n",
    "#             wr.writerow(a)\n",
    "#         print a1[0]\n",
    "        \n",
    "print error_list\n",
    "#             wr.writerow(a2)\n",
    "         \n",
    "    # f = open('train11.txt','w')\n",
    "    "
   ]
  },
  {
   "cell_type": "code",
   "execution_count": null,
   "metadata": {
    "collapsed": true
   },
   "outputs": [],
   "source": []
  }
 ],
 "metadata": {
  "kernelspec": {
   "display_name": "Python 2",
   "language": "python",
   "name": "python2"
  },
  "language_info": {
   "codemirror_mode": {
    "name": "ipython",
    "version": 2
   },
   "file_extension": ".py",
   "mimetype": "text/x-python",
   "name": "python",
   "nbconvert_exporter": "python",
   "pygments_lexer": "ipython2",
   "version": "2.7.6"
  }
 },
 "nbformat": 4,
 "nbformat_minor": 0
}
